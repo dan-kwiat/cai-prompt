{
 "cells": [
  {
   "attachments": {},
   "cell_type": "markdown",
   "metadata": {},
   "source": [
    "# CAI Claude Instant"
   ]
  },
  {
   "cell_type": "code",
   "execution_count": 31,
   "metadata": {},
   "outputs": [],
   "source": [
    "import re\n",
    "from get_llm_response import get_llm_response, Model\n"
   ]
  },
  {
   "cell_type": "code",
   "execution_count": 32,
   "metadata": {},
   "outputs": [],
   "source": [
    "model = Model.claude_instant_v1_latest\n",
    "\n",
    "num_samples = 5\n",
    "\n",
    "constitution_rules = [\n",
    "    \"Instructions must explicitly describe the tone that the editor adpots.\",\n",
    "    \"Instructions must explicitly state the number of words that editor's written response should be, and the number of words should be appropriate for the task.\",\n",
    "    \"Instructions should explicitly reference the article content at the beginning, for example 'Here is an article:\\n\\n<article>ARTICLE_CONTENT</article>\\n\\n[Rest of instruction goes here]'.\",\n",
    "    \"Instructions which involve multiple steps should be broken down into numbered subtasks.\",\n",
    "    # \"Instructions must include explicit examples. For example, if the instruction is to check for spelling errors, it should include an example typo and its correction.\",\n",
    "]\n",
    "constitution_str = \"\\n\".join(map(lambda x: f\"{x[0]+1}. {x[1]}\", enumerate(constitution_rules)))\n",
    "\n",
    "\n",
    "def get_concepts_prompt(n: int):\n",
    "    return f\"Generate a list of {n} tasks that a Copy Editor might do as part of their job, given a written article. The output of each completed task should be written text. Write each task on a separate, numbered line.\"\n",
    "\n",
    "\n",
    "def get_naive_response_prompt(concept: str):\n",
    "    return f\"\"\"I have an AI agent which acts as a Copy Editor and I want it to complete the following task:\n",
    "\n",
    "<task>\n",
    "{concept}\n",
    "</task>\n",
    "\n",
    "The agent only responds with written text. Write a concise instruction for the agent, asking it to complete this task. Don't include any preamble, just respond directly with the instruction for the agent.\"\"\"\n",
    "\n",
    "\n",
    "def get_critique_prompt(naive_response: str):\n",
    "    return f\"\"\"Here is an instruction to an AI agent which acts as a Copy Editor:\n",
    "\n",
    "<instruction>\n",
    "{naive_response}\n",
    "</instruction>\n",
    "\n",
    "There may be some problems with this instruction. In particular, the instruction must abide by the following rules:\n",
    "\n",
    "<rules>\n",
    "{constitution_str}\n",
    "</rules>\n",
    "\n",
    "List each rule that the instruction breaks. State the rule verbatim, then describe how the instruction breaks the rule.\n",
    "\n",
    "For example, if the instruction breaks rule 1, you would write:\n",
    "\n",
    "The instruction breaks the following rules:\n",
    "1. Rule: {constitution_rules[0]} - Reason: ...\"\"\"\n",
    "\n",
    "\n",
    "def get_rewrite_prompt(naive_response: str, critique: str):\n",
    "    return f\"\"\"Here is an instruction to an AI agent which acts as a Copy Editor:\n",
    "\n",
    "<instruction>\n",
    "{naive_response}\n",
    "</instruction>\n",
    "\n",
    "The instruction is supposed to follow certain rules, but it breaks them as follows:\n",
    "\n",
    "<issues>\n",
    "{critique}\n",
    "</issues>\n",
    "\n",
    "Rewrite the instruction to address these issues. Respond directly with the rewritten instruction, without any preamble and without <introduction> tags.\"\"\"\n"
   ]
  },
  {
   "attachments": {},
   "cell_type": "markdown",
   "metadata": {},
   "source": [
    "## Generate concepts"
   ]
  },
  {
   "cell_type": "code",
   "execution_count": 33,
   "metadata": {},
   "outputs": [
    {
     "name": "stdout",
     "output_type": "stream",
     "text": [
      " 1. Proofread the article for spelling and grammar mistakes.  \n",
      "\n",
      "2. Check that all facts and figures are accurate.   \n",
      "\n",
      "3. Ensure consistency in style, capitalization, abbreviations, and punctuation.\n",
      "\n",
      "4. Make appropriate changes to the text for clarity, conciseness, and readability. \n",
      "\n",
      "5. Mark up the text with any copyedits and provide comments or questions for the author.\n"
     ]
    }
   ],
   "source": [
    "concepts_string = get_llm_response(get_concepts_prompt(num_samples), model, 0.7)\n",
    "print(concepts_string)\n"
   ]
  },
  {
   "cell_type": "code",
   "execution_count": 34,
   "metadata": {},
   "outputs": [
    {
     "name": "stdout",
     "output_type": "stream",
     "text": [
      "Got 5 concepts\n"
     ]
    }
   ],
   "source": [
    "def extract_items(text):\n",
    "    items = []\n",
    "    lines = text.split('\\n')\n",
    "    for line in lines:\n",
    "        stripped = line.strip()\n",
    "        if stripped and re.match(r'^\\d+\\.\\s', stripped):\n",
    "            items.append(re.sub(r'^\\d+\\.\\s', '', stripped))\n",
    "    return items\n",
    "\n",
    "\n",
    "concepts = extract_items(concepts_string)\n",
    "if len(concepts) != num_samples:\n",
    "    raise Exception(f\"Expected {num_samples} concepts, but got {len(concepts)}\")\n",
    "else:\n",
    "    print(f\"Got {len(concepts)} concepts\")\n"
   ]
  },
  {
   "attachments": {},
   "cell_type": "markdown",
   "metadata": {},
   "source": [
    "## Generate naive responses\n",
    "\n",
    "> **Terminology** - here we're prompting an LLM to generate prompts, which is confusing. We'll use the word \"prompt\" to refer to the initial input, and \"response\" to refer to the output"
   ]
  },
  {
   "cell_type": "code",
   "execution_count": 35,
   "metadata": {},
   "outputs": [
    {
     "name": "stdout",
     "output_type": "stream",
     "text": [
      "TASK:\n",
      "Proofread the article for spelling and grammar mistakes.\n",
      "\n",
      "NAIVE RESPONSE:\n",
      " Proofread the article and correct any spelling or grammar mistakes.\n",
      "\n",
      "\n",
      "===\n",
      "\n",
      "\n",
      "TASK:\n",
      "Check that all facts and figures are accurate.\n",
      "\n",
      "NAIVE RESPONSE:\n",
      " Verify that all numbers, dates, facts and statistics within the document are correct.\n",
      "\n",
      "\n",
      "===\n",
      "\n",
      "\n",
      "TASK:\n",
      "Ensure consistency in style, capitalization, abbreviations, and punctuation.\n",
      "\n",
      "NAIVE RESPONSE:\n",
      " Please ensure consistency in style, capitalization, abbreviations, and punctuation throughout the text.\n",
      "\n",
      "\n",
      "===\n",
      "\n",
      "\n",
      "TASK:\n",
      "Make appropriate changes to the text for clarity, conciseness, and readability.\n",
      "\n",
      "NAIVE RESPONSE:\n",
      " Revise the text for clarity, conciseness and readability.\n",
      "\n",
      "\n",
      "===\n",
      "\n",
      "\n",
      "TASK:\n",
      "Mark up the text with any copyedits and provide comments or questions for the author.\n",
      "\n",
      "NAIVE RESPONSE:\n",
      " Copyedit the text and provide inline edits and comments indicating any issues.\n"
     ]
    }
   ],
   "source": [
    "def get_naive_response(concept):\n",
    "    return get_llm_response(get_naive_response_prompt(concept), model, 0.3)\n",
    "\n",
    "\n",
    "# Concurrently (speeds up openai responses, not possible with anthropic)\n",
    "# with concurrent.futures.ThreadPoolExecutor() as executor:\n",
    "#     naive_responses = list(executor.map(lambda x: get_naive_response(\n",
    "#         x[0], x[1]), [(concept, i) for i, concept in enumerate(concepts)]))\n",
    "\n",
    "# Sequentially\n",
    "naive_responses = []\n",
    "for concept in concepts:\n",
    "    naive_responses.append(get_naive_response(concept))\n",
    "\n",
    "tasksResponsesString = \"\\n\\n\\n===\\n\\n\\n\".join(\n",
    "    [f\"TASK:\\n{task}\\n\\nNAIVE RESPONSE:\\n{response}\" for task, response in zip(concepts, naive_responses)])\n",
    "print(tasksResponsesString)\n"
   ]
  },
  {
   "attachments": {},
   "cell_type": "markdown",
   "metadata": {},
   "source": [
    "Most of these responses are slightly more detailed rewrites of the corresponding task. This is a good start, but ultimately not very useful and doesn't demonstrate most of the good practices in prompt design."
   ]
  },
  {
   "attachments": {},
   "cell_type": "markdown",
   "metadata": {},
   "source": [
    "## Critique"
   ]
  },
  {
   "attachments": {},
   "cell_type": "markdown",
   "metadata": {},
   "source": [
    "Here's what an example prompt looks like:"
   ]
  },
  {
   "cell_type": "code",
   "execution_count": 36,
   "metadata": {},
   "outputs": [
    {
     "name": "stdout",
     "output_type": "stream",
     "text": [
      "Here is an instruction to an AI agent which acts as a Copy Editor:\n",
      "\n",
      "<instruction>\n",
      " Proofread the article and correct any spelling or grammar mistakes.\n",
      "</instruction>\n",
      "\n",
      "There may be some problems with this instruction. In particular, the instruction must abide by the following rules:\n",
      "\n",
      "<rules>\n",
      "1. Instructions must explicitly describe the tone that the editor adpots.\n",
      "2. Instructions must explicitly state the number of words that editor's written response should be, and the number of words should be appropriate for the task.\n",
      "3. Instructions should explicitly reference the article content at the beginning, for example 'Here is an article:\n",
      "\n",
      "<article>ARTICLE_CONTENT</article>\n",
      "\n",
      "[Rest of instruction goes here]'.\n",
      "4. Instructions which involve multiple steps should be broken down into numbered subtasks.\n",
      "</rules>\n",
      "\n",
      "List each rule that the instruction breaks. State the rule verbatim, then describe how the instruction breaks the rule.\n",
      "\n",
      "For example, if the instruction breaks rule 1, you would write:\n",
      "\n",
      "The instruction breaks the following rules:\n",
      "1. Rule: Instructions must explicitly describe the tone that the editor adpots. - Reason: ...\n"
     ]
    }
   ],
   "source": [
    "print(get_critique_prompt(naive_responses[0]))\n"
   ]
  },
  {
   "attachments": {},
   "cell_type": "markdown",
   "metadata": {},
   "source": [
    "Now let's execute the critique prompt on each of the naive responses:"
   ]
  },
  {
   "cell_type": "code",
   "execution_count": 37,
   "metadata": {},
   "outputs": [
    {
     "name": "stdout",
     "output_type": "stream",
     "text": [
      "NAIVE RESPONSE:\n",
      " Proofread the article and correct any spelling or grammar mistakes.\n",
      "\n",
      "CRITIQUE:\n",
      " The instruction breaks the following rules:\n",
      "\n",
      "1. Rule: Instructions must explicitly describe the tone that the editor adpots.\n",
      "Reason: The instruction does not specify the tone that the editor should adopt when proofreading and correcting the article.\n",
      "\n",
      "2. Rule: Instructions must explicitly state the number of words that editor's written response should be, and the number of words should be appropriate for the task.\n",
      "Reason: The instruction does not specify the number of words that the editor's corrections should contain.\n",
      "\n",
      "3. Rule: Instructions should explicitly reference the article content at the beginning, for example 'Here is an article:\n",
      "<article>ARTICLE_CONTENT</article> \n",
      "[Rest of instruction goes here].'\n",
      "Reason: The instruction does not reference any specific article content.\n",
      "\n",
      "4. Rule: Instructions which involve multiple steps should be broken down into numbered subtasks.    \n",
      "Reason: The instruction contains a single unnumbered step.\n",
      "\n",
      "\n",
      "===\n",
      "\n",
      "\n",
      "NAIVE RESPONSE:\n",
      " Verify that all numbers, dates, facts and statistics within the document are correct.\n",
      "\n",
      "CRITIQUE:\n",
      " The instruction breaks the following rules:\n",
      "\n",
      "1. Rule: Instructions must explicitly describe the tone that the editor adpots. - Reason: The instruction does not specify the tone the editor should adopt.  \n",
      "\n",
      "2. Rule: Instructions must explicitly state the number of words that editor's written response should be, and the number of words should be appropriate for the task. - Reason: The instruction does not specify the number of words the editor's response should contain.\n",
      "\n",
      "3. Rule: Instructions should explicitly reference the article content at the beginning, for example 'Here is an article:  \n",
      " <article>ARTICLE_CONTENT</article>\n",
      "[Rest of instruction goes here]'. - Reason: The instruction does not reference any specific article content.\n",
      "\n",
      "4. Rule: Instructions which involve multiple steps should be broken down into numbered subtasks. - Reason: The instruction contains a single unnumbered step.\n",
      "\n",
      "\n",
      "===\n",
      "\n",
      "\n",
      "NAIVE RESPONSE:\n",
      " Please ensure consistency in style, capitalization, abbreviations, and punctuation throughout the text.\n",
      "\n",
      "CRITIQUE:\n",
      " The instruction breaks the following rules:\n",
      "\n",
      "1. Rule: Instructions must explicitly describe the tone that the editor adpots. - Reason: The instruction does not describe the tone that the editor should adopt.  \n",
      "\n",
      "2. Rule: Instructions must explicitly state the number of words that editor's written response should be, and the number of words should be appropriate for the task. - Reason: The instruction does not specify the number of words in the editor's response.\n",
      "\n",
      "3. Rule: Instructions should explicitly reference the article content at the beginning, for example 'Here is an article:  \n",
      " <article>ARTICLE_CONTENT</article>\n",
      "[Rest of instruction goes here]'. - Reason: The instruction does not reference any article content.\n",
      "\n",
      "4. Rule: Instructions which involve multiple steps should be broken down into numbered subtasks. - Reason: The instruction contains multiple tasks but they are not broken down into numbered subtasks.\n",
      "\n",
      "\n",
      "===\n",
      "\n",
      "\n",
      "NAIVE RESPONSE:\n",
      " Revise the text for clarity, conciseness and readability.\n",
      "\n",
      "CRITIQUE:\n",
      " The instruction breaks the following rules:\n",
      "\n",
      "1. Rule: Instructions must explicitly describe the tone that the editor adpots.\n",
      "Reason: The instruction does not specify the tone that the editor should adopt when revising the text.\n",
      "\n",
      "2. Rule: Instructions must explicitly state the number of words that editor's written response should be, and the number of words should be appropriate for the task.\n",
      "Reason: The instruction does not specify the number of words the editor's revised text should be.\n",
      "\n",
      "3. Rule: Instructions should explicitly reference the article content at the beginning, for example 'Here is an article:\n",
      "<article>ARTICLE_CONTENT</article> \n",
      "[Rest of instruction goes here].'\n",
      "Reason: The instruction does not reference any specific article content that the editor should revise.\n",
      "\n",
      "4. Rule: Instructions which involve multiple steps should be broken down into numbered subtasks.    \n",
      "Reason: The instruction contains a single broad task (\"Revise the text for clarity, conciseness and readability\") without breaking it into numbered subtasks.\n",
      "\n",
      "\n",
      "===\n",
      "\n",
      "\n",
      "NAIVE RESPONSE:\n",
      " Copyedit the text and provide inline edits and comments indicating any issues.\n",
      "\n",
      "CRITIQUE:\n",
      " The instruction breaks the following rules:\n",
      "\n",
      "1. Rule: Instructions must explicitly describe the tone that the editor adpots. - Reason: The instruction does not specify the tone that the editor should adopt.\n",
      "\n",
      "2. Rule: Instructions must explicitly state the number of words that editor's written response should be, and the number of words should be appropriate for the task. - Reason: The instruction does not specify the number of words the editor's response should contain.\n",
      "\n",
      "3. Rule: Instructions should explicitly reference the article content at the beginning, for example 'Here is an article: <article>ARTICLE_CONTENT</article> [Rest of instruction goes here].' - Reason: The instruction does not reference any specific article content.\n",
      "\n",
      "4. Rule: Instructions which involve multiple steps should be broken down into numbered subtasks. - Reason: The instruction contains a single unnumbered step.\n"
     ]
    }
   ],
   "source": [
    "def get_critique(naive_response):\n",
    "    return get_llm_response(get_critique_prompt(naive_response), model, 0)\n",
    "\n",
    "# Concurrently:\n",
    "# with concurrent.futures.ThreadPoolExecutor() as executor:\n",
    "#     critiques = list(executor.map(lambda x: get_critique(x[0], x[1]), [\n",
    "#                      (response, i) for i, response in enumerate(naive_responses)]))\n",
    "\n",
    "\n",
    "# Sequentially:\n",
    "critiques = []\n",
    "for naive_response in naive_responses:\n",
    "    critiques.append(get_critique(naive_response))\n",
    "\n",
    "responseCritiqueString = \"\\n\\n\\n===\\n\\n\\n\".join(\n",
    "    [f\"NAIVE RESPONSE:\\n{response}\\n\\nCRITIQUE:\\n{critique}\" for response, critique in zip(naive_responses, critiques)])\n",
    "print(responseCritiqueString)\n"
   ]
  },
  {
   "attachments": {},
   "cell_type": "markdown",
   "metadata": {},
   "source": [
    "## Rewrite"
   ]
  },
  {
   "attachments": {},
   "cell_type": "markdown",
   "metadata": {},
   "source": [
    "Here's what an example rewrite prompt looks like:"
   ]
  },
  {
   "cell_type": "code",
   "execution_count": 38,
   "metadata": {},
   "outputs": [
    {
     "name": "stdout",
     "output_type": "stream",
     "text": [
      "Here is an instruction to an AI agent which acts as a Copy Editor:\n",
      "\n",
      "<instruction>\n",
      " Proofread the article and correct any spelling or grammar mistakes.\n",
      "</instruction>\n",
      "\n",
      "The instruction is supposed to follow certain rules, but it breaks them as follows:\n",
      "\n",
      "<issues>\n",
      " The instruction breaks the following rules:\n",
      "\n",
      "1. Rule: Instructions must explicitly describe the tone that the editor adpots.\n",
      "Reason: The instruction does not specify the tone that the editor should adopt when proofreading and correcting the article.\n",
      "\n",
      "2. Rule: Instructions must explicitly state the number of words that editor's written response should be, and the number of words should be appropriate for the task.\n",
      "Reason: The instruction does not specify the number of words that the editor's corrections should contain.\n",
      "\n",
      "3. Rule: Instructions should explicitly reference the article content at the beginning, for example 'Here is an article:\n",
      "<article>ARTICLE_CONTENT</article> \n",
      "[Rest of instruction goes here].'\n",
      "Reason: The instruction does not reference any specific article content.\n",
      "\n",
      "4. Rule: Instructions which involve multiple steps should be broken down into numbered subtasks.    \n",
      "Reason: The instruction contains a single unnumbered step.\n",
      "</issues>\n",
      "\n",
      "Rewrite the instruction to address these issues. Respond directly with the rewritten instruction, without any preamble and without <introduction> tags.\n"
     ]
    }
   ],
   "source": [
    "print(get_rewrite_prompt(naive_responses[0], critiques[0]))\n"
   ]
  },
  {
   "attachments": {},
   "cell_type": "markdown",
   "metadata": {},
   "source": [
    "Now let's execute the rewrite prompt on each of the naive responses:"
   ]
  },
  {
   "cell_type": "code",
   "execution_count": 39,
   "metadata": {},
   "outputs": [
    {
     "name": "stdout",
     "output_type": "stream",
     "text": [
      "NAIVE RESPONSE:\n",
      " Proofread the article and correct any spelling or grammar mistakes.\n",
      "\n",
      "REWRITE:\n",
      " Proofread the following 500-1000 word article and correct any spelling or grammar mistakes in under 200 words per correction:\n",
      "\n",
      "<article>\n",
      "Lorem ipsum dolor sit amet, consectetur adipiscing elit, sed do eiusmod tempor incididunt ut labore et dolore magna aliqua. Ut enim ad minim veniam, quis nostrud exercitation ullamco laboris nisi ut aliquip ex ea commodo consequat.  \n",
      "</article>\n",
      "\n",
      "1. Check for any spelling mistakes in the article.  \n",
      "2. Check sentences for correct grammar and punctuation.  \n",
      "3. Provide concise corrections or comments in under 200 words for any issues you identify.\n",
      "4. Ensure corrections are polite and respectful in tone.\n",
      "\n",
      "\n",
      "===\n",
      "\n",
      "\n",
      "NAIVE RESPONSE:\n",
      " Verify that all numbers, dates, facts and statistics within the document are correct.\n",
      "\n",
      "REWRITE:\n",
      " Here is the rewritten instruction:\n",
      "\n",
      "Here is an article:\n",
      "<article>ARTICLE_CONTENT</article>\n",
      "\n",
      "1. Verify that all numbers, dates, facts and statistics within the article are correct in a polite and helpful tone, aiming for a 100-150 word response.\n",
      "\n",
      "\n",
      "===\n",
      "\n",
      "\n",
      "NAIVE RESPONSE:\n",
      " Please ensure consistency in style, capitalization, abbreviations, and punctuation throughout the text.\n",
      "\n",
      "REWRITE:\n",
      " Here is the rewritten instruction:\n",
      "\n",
      "Please ensure the following in a formal and courteous tone, responding in up to 50 words:  \n",
      "\n",
      "1. Consistency in style throughout the 200-word text. Correct any incorrect capitalization, abbreviations or punctuation. For example:\n",
      "\n",
      "<article>\n",
      "The article content goes here.  \n",
      "</article>\n",
      "\n",
      "2. Consistency in the spelling of names and places. Correct any incorrect spellings.   \n",
      "\n",
      "3. Appropriate use of contractions. Correct any inappropriate use of contractions.\n",
      "\n",
      "\n",
      "===\n",
      "\n",
      "\n",
      "NAIVE RESPONSE:\n",
      " Revise the text for clarity, conciseness and readability.\n",
      "\n",
      "REWRITE:\n",
      " Revise the text as follows:\n",
      "\n",
      "1. Read through the article below carefully:  \n",
      "\n",
      "<article>ARTICLE_CONTENT</article>\n",
      "\n",
      "2. Shorten the text to 250-300 words by:\n",
      "\n",
      "- Removing repetitive and redundant content\n",
      "- Merging related paragraphs  \n",
      "- Removing unnecessary details   \n",
      "\n",
      "3. Improve the clarity of the text by:\n",
      "\n",
      "- Using simple and concise wording   \n",
      "- Removing ambiguous phrasing\n",
      "- Defining any technical or specialized terms   \n",
      "\n",
      "4. Check that the revised text maintains:\n",
      "\n",
      "- The key facts and main ideas   \n",
      "- The tone of the original  \n",
      "\n",
      "Provide your revised 250-300 word text in response.\n",
      "\n",
      "\n",
      "===\n",
      "\n",
      "\n",
      "NAIVE RESPONSE:\n",
      " Copyedit the text and provide inline edits and comments indicating any issues.\n",
      "\n",
      "REWRITE:\n",
      " Rewritten instruction:\n",
      "\n",
      "Copyedit the following 500-word article with a polite and constructive tone, providing inline edits and numbered comments indicating any issues:\n",
      "\n",
      "<article>  \n",
      " Here is the article content that should be copyedited...\n",
      "</article>\n",
      "\n",
      "1. Check spelling and grammar throughout the text.\n",
      "2. Ensure consistency in punctuation, capitalization, and abbreviations.  \n",
      "3. Verify that facts, statistics, and quotes are accurate and properly attributed.\n",
      "4. Provide suggestions to improve word choice, sentence structure, and clarity.\n"
     ]
    }
   ],
   "source": [
    "def get_rewrite(naive_response, critique):\n",
    "    return get_llm_response(get_rewrite_prompt(naive_response, critique), model, 0.5)\n",
    "\n",
    "# Concurrently:\n",
    "# with concurrent.futures.ThreadPoolExecutor() as executor:\n",
    "#     rewrites = list(executor.map(lambda x: get_rewrite(x[0], x[1], x[2]), [\n",
    "#         (response, critique, i) for i, (response, critique) in enumerate(zip(naive_responses, critiques))]))\n",
    "\n",
    "\n",
    "# Sequentially:\n",
    "rewrites = []\n",
    "for i, (naive_response, critique) in enumerate(zip(naive_responses, critiques)):\n",
    "    rewrites.append(get_rewrite(naive_response, critique))\n",
    "\n",
    "rewriteString = \"\\n\\n\\n===\\n\\n\\n\".join(\n",
    "    [f\"NAIVE RESPONSE:\\n{response}\\n\\nREWRITE:\\n{rewrite}\" for response, rewrite in zip(naive_responses, rewrites)])\n",
    "print(rewriteString)\n"
   ]
  },
  {
   "cell_type": "code",
   "execution_count": null,
   "metadata": {},
   "outputs": [],
   "source": []
  }
 ],
 "metadata": {
  "kernelspec": {
   "display_name": "Python 3",
   "language": "python",
   "name": "python3"
  },
  "language_info": {
   "codemirror_mode": {
    "name": "ipython",
    "version": 3
   },
   "file_extension": ".py",
   "mimetype": "text/x-python",
   "name": "python",
   "nbconvert_exporter": "python",
   "pygments_lexer": "ipython3",
   "version": "3.10.6"
  },
  "orig_nbformat": 4,
  "vscode": {
   "interpreter": {
    "hash": "b0fa6594d8f4cbf19f97940f81e996739fb7646882a419484c72d19e05852a7e"
   }
  }
 },
 "nbformat": 4,
 "nbformat_minor": 2
}
